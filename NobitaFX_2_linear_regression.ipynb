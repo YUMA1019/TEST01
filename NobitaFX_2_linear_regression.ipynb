{
 "cells": [
  {
   "cell_type": "code",
   "execution_count": 1,
   "metadata": {},
   "outputs": [
    {
     "name": "stdout",
     "output_type": "stream",
     "text": [
      "Once deleted, variables cannot be recovered. Proceed (y/[n])? y\n"
     ]
    }
   ],
   "source": [
    "# Author：Sugulu\n",
    "# Date：created 11月08日2017年\n",
    "# のび太FX第2話　線形回帰モデル\n",
    "\n",
    "# 一度変数を初期化しておきます「yを押してenterしてください」\n",
    "%reset "
   ]
  },
  {
   "cell_type": "code",
   "execution_count": 2,
   "metadata": {
    "collapsed": true
   },
   "outputs": [],
   "source": [
    "# import関連\n",
    "import numpy as np\n",
    "import pandas as pd\n",
    "import matplotlib\n",
    "import matplotlib.pylab as plt\n",
    "import seaborn as sns\n",
    "\n",
    "import warnings\n",
    "warnings.filterwarnings('ignore') # 実行上問題ない注意は非表示にする\n",
    "\n",
    "%matplotlib inline"
   ]
  },
  {
   "cell_type": "code",
   "execution_count": 3,
   "metadata": {
    "collapsed": true
   },
   "outputs": [],
   "source": [
    "# 練習問題: 問題を作成\n",
    "from numpy.random import * #乱数のライブラリをimport\n",
    "X_train = rand(100,2) # 0〜1の乱数で 100行2列の行列を生成\n",
    "X_test = rand(100,2) # 0〜1の乱数で 100行2列の行列を生成\n",
    "\n",
    "# 係数を設定\n",
    "w1 = 1.0\n",
    "w2 = 2.0\n",
    "b = 3.0\n",
    "\n",
    "# モデルからの誤差となるノイズを作成 \n",
    "noise_train = 0.1*randn(100)\n",
    "noise_test = 0.1*randn(100)\n",
    "\n",
    "Y_train = w1*X_train[:,0] + w2*X_train[:,1]  + b + noise_train\n",
    "Y_test = w1*X_test[:,0] + w2*X_test[:,1] + b + noise_test "
   ]
  },
  {
   "cell_type": "code",
   "execution_count": 4,
   "metadata": {},
   "outputs": [
    {
     "name": "stdout",
     "output_type": "stream",
     "text": [
      "回帰式モデルの係数\n",
      "[ 0.96475714  1.98521696]\n",
      "3.02353408506\n"
     ]
    }
   ],
   "source": [
    "# 練習問題: 問題を線形回帰モデルで解く\n",
    "from sklearn import linear_model # scikit-learnライブラリの関数を使用します\n",
    "\n",
    "linear_reg_model = linear_model.LinearRegression() # モデルの定義\n",
    "\n",
    "linear_reg_model.fit(X_train, Y_train) # モデルに対して、学習データをフィットさせ係数を学習させます\n",
    "\n",
    "print(\"回帰式モデルの係数\")\n",
    "print(linear_reg_model.coef_) \n",
    "print(linear_reg_model.intercept_) "
   ]
  },
  {
   "cell_type": "code",
   "execution_count": 5,
   "metadata": {},
   "outputs": [
    {
     "data": {
      "text/plain": [
       "<matplotlib.axes._subplots.AxesSubplot at 0xc0a26a0>"
      ]
     },
     "execution_count": 5,
     "metadata": {},
     "output_type": "execute_result"
    },
    {
     "data": {
      "image/png": "[encoded data removed]",
      "text/plain": [
       "<matplotlib.figure.Figure at 0xc07afd0>"
      ]
     },
     "metadata": {},
     "output_type": "display_data"
    }
   ],
   "source": [
    "# グラフで予測具合を見る\n",
    "Y_pred = linear_reg_model.predict(X_test) # テストデータから予測してみる\n",
    "\n",
    "result = pd.DataFrame(Y_pred) # 予測\n",
    "result.columns = ['Y_pred']\n",
    "result['Y_test'] = Y_test\n",
    "sns.set_style('darkgrid')\n",
    "sns.regplot(x='Y_pred', y='Y_test', data=result)"
   ]
  }
 ],
 "metadata": {
  "kernelspec": {
   "display_name": "Python 3",
   "language": "python",
   "name": "python3"
  },
  "language_info": {
   "codemirror_mode": {
    "name": "ipython",
    "version": 3
   },
   "file_extension": ".py",
   "mimetype": "text/x-python",
   "name": "python",
   "nbconvert_exporter": "python",
   "pygments_lexer": "ipython3",
   "version": "3.6.3"
  }
 },
 "nbformat": 4,
 "nbformat_minor": 2
}
