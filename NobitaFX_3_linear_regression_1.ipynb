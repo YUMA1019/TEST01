{
 "cells": [
  {
   "cell_type": "code",
   "execution_count": 1,
   "metadata": {},
   "outputs": [
    {
     "name": "stdout",
     "output_type": "stream",
     "text": [
      "Once deleted, variables cannot be recovered. Proceed (y/[n])? y\n"
     ]
    }
   ],
   "source": [
    "# Author：Sugulu\n",
    "# Date：created 11月12日2017年\n",
    "# のび太FX第3話　線形回帰モデルでFX予測1　\n",
    "\n",
    "# 一度変数を初期化しておきます「yを押してenterしてください」\n",
    "%reset "
   ]
  },
  {
   "cell_type": "code",
   "execution_count": 2,
   "metadata": {
    "collapsed": true
   },
   "outputs": [],
   "source": [
    "# import関連\n",
    "import numpy as np\n",
    "import pandas as pd\n",
    "import matplotlib\n",
    "import matplotlib.pylab as plt\n",
    "import seaborn as sns\n",
    "\n",
    "import warnings\n",
    "warnings.filterwarnings('ignore') # 実行上問題ない注意は非表示にする\n",
    "\n",
    "%matplotlib inline"
   ]
  },
  {
   "cell_type": "code",
   "execution_count": 3,
   "metadata": {},
   "outputs": [
    {
     "data": {
      "text/html": [
       "<div>\n",
       "<style>\n",
       "    .dataframe thead tr:only-child th {\n",
       "        text-align: right;\n",
       "    }\n",
       "\n",
       "    .dataframe thead th {\n",
       "        text-align: left;\n",
       "    }\n",
       "\n",
       "    .dataframe tbody tr th {\n",
       "        vertical-align: top;\n",
       "    }\n",
       "</style>\n",
       "<table border=\"1\" class=\"dataframe\">\n",
       "  <thead>\n",
       "    <tr style=\"text-align: right;\">\n",
       "      <th></th>\n",
       "      <th>Date</th>\n",
       "      <th>Open</th>\n",
       "      <th>High</th>\n",
       "      <th>Low</th>\n",
       "      <th>Close</th>\n",
       "    </tr>\n",
       "  </thead>\n",
       "  <tbody>\n",
       "    <tr>\n",
       "      <th>0</th>\n",
       "      <td>1997/1/2</td>\n",
       "      <td>115.85</td>\n",
       "      <td>116.20</td>\n",
       "      <td>115.28</td>\n",
       "      <td>115.60</td>\n",
       "    </tr>\n",
       "    <tr>\n",
       "      <th>1</th>\n",
       "      <td>1997/1/3</td>\n",
       "      <td>115.65</td>\n",
       "      <td>116.70</td>\n",
       "      <td>115.35</td>\n",
       "      <td>116.28</td>\n",
       "    </tr>\n",
       "    <tr>\n",
       "      <th>2</th>\n",
       "      <td>1997/1/6</td>\n",
       "      <td>116.75</td>\n",
       "      <td>116.98</td>\n",
       "      <td>115.38</td>\n",
       "      <td>115.75</td>\n",
       "    </tr>\n",
       "    <tr>\n",
       "      <th>3</th>\n",
       "      <td>1997/1/7</td>\n",
       "      <td>115.74</td>\n",
       "      <td>116.02</td>\n",
       "      <td>114.80</td>\n",
       "      <td>115.25</td>\n",
       "    </tr>\n",
       "    <tr>\n",
       "      <th>4</th>\n",
       "      <td>1997/1/8</td>\n",
       "      <td>115.22</td>\n",
       "      <td>116.00</td>\n",
       "      <td>114.90</td>\n",
       "      <td>115.73</td>\n",
       "    </tr>\n",
       "  </tbody>\n",
       "</table>\n",
       "</div>"
      ],
      "text/plain": [
       "       Date    Open    High     Low   Close\n",
       "0  1997/1/2  115.85  116.20  115.28  115.60\n",
       "1  1997/1/3  115.65  116.70  115.35  116.28\n",
       "2  1997/1/6  116.75  116.98  115.38  115.75\n",
       "3  1997/1/7  115.74  116.02  114.80  115.25\n",
       "4  1997/1/8  115.22  116.00  114.90  115.73"
      ]
     },
     "execution_count": 3,
     "metadata": {},
     "output_type": "execute_result"
    }
   ],
   "source": [
    "# dataフォルダの場所を各自指定してください\n",
    "data_dir = \"./\"\n",
    "data = pd.read_csv(data_dir + \"USDJPY_1997_2017.csv\") # FXデータの読み込み（データは同じリポジトリのdataフォルダに入っています）\n",
    "data.head() # データの概要を見てみます"
   ]
  },
  {
   "cell_type": "code",
   "execution_count": 4,
   "metadata": {
    "collapsed": true
   },
   "outputs": [],
   "source": [
    "# pandasのDataFrameのままでは、扱いにくい+実行速度が遅いので、numpyに変換して処理します\n",
    "data2 = np.array(data)"
   ]
  },
  {
   "cell_type": "code",
   "execution_count": 5,
   "metadata": {
    "collapsed": true
   },
   "outputs": [],
   "source": [
    "# データの内容を見ます\n",
    "#data_show=pd.DataFrame(data2)\n",
    "#data_show"
   ]
  },
  {
   "cell_type": "code",
   "execution_count": 6,
   "metadata": {
    "collapsed": true
   },
   "outputs": [],
   "source": [
    "# 説明変数となる行列Xを作成します\n",
    "day_ago = 25 # 何日前までのデータを使用するのかを設定\n",
    "num_sihyou = 1 # 終値\n",
    "\n",
    "X = np.zeros((len(data2), day_ago*num_sihyou)) \n",
    "\n",
    "# 終値をfor文でday_ago日前まで一気に追加する\n",
    "for i in range(0, day_ago):\n",
    "    X[i:len(data2),i] = data2[0:len(data2)-i,4]"
   ]
  },
  {
   "cell_type": "code",
   "execution_count": 7,
   "metadata": {
    "collapsed": true
   },
   "outputs": [],
   "source": [
    "# Xの確認です\n",
    "#data_show = pd.DataFrame(X)\n",
    "#data_show"
   ]
  },
  {
   "cell_type": "code",
   "execution_count": 8,
   "metadata": {
    "collapsed": true
   },
   "outputs": [],
   "source": [
    "# 被説明変数となる Y = pre_day後の終値-当日終値 を作成します\n",
    "Y = np.zeros(len(data2))\n",
    "\n",
    "# 何日後を値段の差を予測するのか決めます\n",
    "pre_day = 1\n",
    "Y[0:len(Y)-pre_day] = X[pre_day:len(X),0] - X[0:len(X)-pre_day,0]"
   ]
  },
  {
   "cell_type": "code",
   "execution_count": 9,
   "metadata": {
    "collapsed": true
   },
   "outputs": [],
   "source": [
    "# 【重要】X, Yを正規化します\n",
    "original_X = np.copy(X) # コピーするときは、そのままイコールではダメ\n",
    "tmp_mean = np.zeros(len(X))\n",
    "\n",
    "for i in range(day_ago,len(X)):\n",
    "    tmp_mean[i] = np.mean(original_X[i-day_ago+1:i+1,0]) # 25日分の平均値\n",
    "    for j in range(0, X.shape[1]): \n",
    "        X[i,j] = (X[i,j] - tmp_mean[i]) # Xを正規化\n",
    "    Y[i] =  Y[i]  # X同士の引き算しているので、Yはそのまま"
   ]
  },
  {
   "cell_type": "code",
   "execution_count": 10,
   "metadata": {
    "collapsed": true
   },
   "outputs": [],
   "source": [
    "# 平均の確認です\n",
    "#data_show = pd.DataFrame(tmp_mean)\n",
    "#data_show"
   ]
  },
  {
   "cell_type": "code",
   "execution_count": 11,
   "metadata": {
    "collapsed": true
   },
   "outputs": [],
   "source": [
    "# XとYを学習データとテストデータ(2017年～)に分ける\n",
    "X_train = X[200:5193,:] # 次のプログラムで200日平均を使うので、それ以降を学習データに使用します\n",
    "Y_train = Y[200:5193] \n",
    "\n",
    "X_test = X[5193:len(X)-pre_day,:] \n",
    "Y_test = Y[5193:len(Y)-pre_day]"
   ]
  },
  {
   "cell_type": "code",
   "execution_count": 12,
   "metadata": {
    "collapsed": true
   },
   "outputs": [],
   "source": [
    "# 2017年のデータを見てみます\n",
    "#data_show=pd.DataFrame(Y_test)\n",
    "#data_show"
   ]
  },
  {
   "cell_type": "code",
   "execution_count": 13,
   "metadata": {},
   "outputs": [
    {
     "name": "stdout",
     "output_type": "stream",
     "text": [
      "回帰式モデルの係数\n",
      "-0.000879052588702\n",
      "[ -2.08136532e+10  -2.08136532e+10  -2.08136532e+10  -2.08136532e+10\n",
      "  -2.08136532e+10  -2.08136532e+10  -2.08136532e+10  -2.08136532e+10\n",
      "  -2.08136532e+10  -2.08136532e+10  -2.08136532e+10  -2.08136532e+10\n",
      "  -2.08136532e+10  -2.08136532e+10  -2.08136532e+10  -2.08136532e+10\n",
      "  -2.08136532e+10  -2.08136532e+10  -2.08136532e+10  -2.08136532e+10\n",
      "  -2.08136532e+10  -2.08136532e+10  -2.08136532e+10  -2.08136532e+10\n",
      "  -2.08136532e+10]\n"
     ]
    }
   ],
   "source": [
    "# 学習データを使用して、線形回帰モデルを作成します\n",
    "from sklearn import linear_model # scikit-learnライブラリの関数を使用します\n",
    "linear_reg_model = linear_model.LinearRegression()\n",
    "\n",
    "linear_reg_model.fit(X_train, Y_train) # モデルに対して、学習データをフィットさせ係数を学習させます\n",
    "\n",
    "print(\"回帰式モデルの係数\")\n",
    "print(linear_reg_model.intercept_) \n",
    "print(linear_reg_model.coef_) "
   ]
  },
  {
   "cell_type": "code",
   "execution_count": 14,
   "metadata": {},
   "outputs": [
    {
     "name": "stdout",
     "output_type": "stream",
     "text": [
      "予測日数：214、正答日数：103、正答率：48.13084112149533\n"
     ]
    },
    {
     "data": {
      "image/png": "[encoded data removed]",
      "text/plain": [
       "<matplotlib.figure.Figure at 0xc332390>"
      ]
     },
     "metadata": {},
     "output_type": "display_data"
    }
   ],
   "source": [
    "# 2017年のデータで予想し、グラフで予測具合を見る\n",
    "\n",
    "Y_pred = linear_reg_model.predict(X_test) # 予測する\n",
    "\n",
    "result = pd.DataFrame(Y_pred) # 予測\n",
    "result.columns = ['Y_pred']\n",
    "result['Y_test'] = Y_test\n",
    "\n",
    "sns.set_style('darkgrid') \n",
    "sns.regplot(x='Y_pred', y='Y_test', data=result) #plotする\n",
    "\n",
    "\n",
    "# 正答率を計算\n",
    "success_num = 0\n",
    "for i in range(len(Y_pred)):\n",
    "    if Y_pred[i] * Y_test[i] >=0:\n",
    "        success_num+=1\n",
    "\n",
    "print(\"予測日数：\"+ str(len(Y_pred))+\"、正答日数：\"+str(success_num)+\"、正答率：\"+str(success_num/len(Y_pred)*100))"
   ]
  },
  {
   "cell_type": "code",
   "execution_count": 15,
   "metadata": {},
   "outputs": [
    {
     "name": "stdout",
     "output_type": "stream",
     "text": [
      "2017年の利益合計：0.245\n"
     ]
    },
    {
     "data": {
      "text/plain": [
       "[<matplotlib.lines.Line2D at 0xc694f60>]"
      ]
     },
     "execution_count": 15,
     "metadata": {},
     "output_type": "execute_result"
    },
    {
     "data": {
      "image/png": "[encoded data removed]",
      "text/plain": [
       "<matplotlib.figure.Figure at 0xc611470>"
      ]
     },
     "metadata": {},
     "output_type": "display_data"
    }
   ],
   "source": [
    "# 2017年の予測結果の合計を計算ーーーーーーーーー\n",
    "# 前々日終値に比べて前日終値が高い場合は、買いとする\n",
    "sum_2017 = 0\n",
    "\n",
    "for i in range(0,len(Y_test)): # len()で要素数を取得しています\n",
    "    if Y_pred[i] >= 0:\n",
    "        sum_2017 += Y_test[i]\n",
    "    else:\n",
    "        sum_2017 -= Y_test[i]\n",
    "\n",
    "print(\"2017年の利益合計：%1.3lf\" %sum_2017) \n",
    "\n",
    "\n",
    "# 予測結果の総和グラフを描くーーーーーーーーー\n",
    "total_return = np.zeros(len(Y_test))\n",
    "\n",
    "if Y_pred[i] >=0: # 2017年の初日を格納\n",
    "    total_return[0] = Y_test[i]\n",
    "else:\n",
    "    total_return[0] = -Y_test[i]\n",
    "\n",
    "for i in range(1, len(result)): # 2017年の2日以降を格納\n",
    "    if Y_pred[i] >=0:\n",
    "        total_return[i] = total_return[i-1] + Y_test[i]\n",
    "    else:\n",
    "        total_return[i] = total_return[i-1] - Y_test[i]\n",
    "\n",
    "plt.plot(total_return)\n"
   ]
  },
  {
   "cell_type": "code",
   "execution_count": null,
   "metadata": {
    "collapsed": true
   },
   "outputs": [],
   "source": []
  },
  {
   "cell_type": "code",
   "execution_count": 16,
   "metadata": {},
   "outputs": [
    {
     "name": "stdout",
     "output_type": "stream",
     "text": [
      "[10, 20, 30, 40]\n",
      "50\n"
     ]
    }
   ],
   "source": [
    "x = [10, 20, 30, 40, 50]\n",
    "i=4\n",
    "print(x[0:i])\n",
    "print(x[i])"
   ]
  }
 ],
 "metadata": {
  "kernelspec": {
   "display_name": "Python 3",
   "language": "python",
   "name": "python3"
  },
  "language_info": {
   "codemirror_mode": {
    "name": "ipython",
    "version": 3
   },
   "file_extension": ".py",
   "mimetype": "text/x-python",
   "name": "python",
   "nbconvert_exporter": "python",
   "pygments_lexer": "ipython3",
   "version": "3.6.3"
  }
 },
 "nbformat": 4,
 "nbformat_minor": 2
}
